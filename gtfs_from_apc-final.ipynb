{
 "cells": [
  {
   "cell_type": "code",
   "execution_count": 1,
   "metadata": {},
   "outputs": [],
   "source": [
    "import pandas as pd\n",
    "import gtfs_functions as gtfs\n",
    "\n",
    "pd.set_option('display.max_rows', 100)"
   ]
  },
  {
   "cell_type": "code",
   "execution_count": 2,
   "metadata": {},
   "outputs": [],
   "source": [
    "apc_df =  pd.read_parquet('./carta-apc.parquet/2021_10_24_gtfs_days', engine='pyarrow').sort_values('transit_date').reset_index(drop=True)\n",
    "apc_df = apc_df[apc_df['gtfs_trip_id']>='204888020']\n",
    "routes, stops, stop_times, trips, shapes = gtfs.import_gtfs('./raw/20211024.zip', busiest_date=False)\n"
   ]
  },
  {
   "cell_type": "code",
   "execution_count": 3,
   "metadata": {},
   "outputs": [],
   "source": [
    "#works well to remove all null time_actual_arrive and associated stops\n",
    "apc_df = apc_df.dropna(subset=['map_latitude', 'map_longitude'])\n",
    "apc_df_w_10C = apc_df[(apc_df.route_id != '10C')]"
   ]
  },
  {
   "cell_type": "code",
   "execution_count": 4,
   "metadata": {},
   "outputs": [],
   "source": [
    "def check_stops_in_order(trip):\n",
    "    trip = trip.sort_values('time_actual_arrive')\n",
    "    if trip.iloc[0].first_last_stop !=1:\n",
    "        return 1\n",
    "    elif trip.iloc[-1].first_last_stop !=1:\n",
    "        return 1\n",
    "    else:\n",
    "        return 0"
   ]
  },
  {
   "cell_type": "code",
   "execution_count": 5,
   "metadata": {},
   "outputs": [],
   "source": [
    "def find_trips(series):\n",
    "    return (series.to_list())\n",
    "\n",
    "def stop_len(series):\n",
    "    return (len(series.to_list()))"
   ]
  },
  {
   "cell_type": "code",
   "execution_count": 6,
   "metadata": {},
   "outputs": [],
   "source": [
    "shape_alltrips = trips.groupby('shape_id').agg({\"trip_id\": find_trips}).reset_index()\n",
    "shapes_10C = shape_alltrips[(shape_alltrips.shape_id >= 'shp-10C') & (shape_alltrips.shape_id <= 'shp-10D')]\n",
    "#removing shape-10-C\n",
    "shape_alltrips = shape_alltrips[~((shape_alltrips.shape_id >= 'shp-10C') & (shape_alltrips.shape_id <= 'shp-10D'))]\n",
    "\n",
    "# apc_shape_alltrips = apc_df.groupby('gtfs_shape_id').agg({\"gtfs_trip_id\": find_trips}).reset_index()\n",
    "trip_stop_len = apc_df.groupby(['gtfs_shape_id', 'gtfs_trip_id', 'transit_date']).count().reset_index()"
   ]
  },
  {
   "cell_type": "code",
   "execution_count": 7,
   "metadata": {},
   "outputs": [],
   "source": [
    "def func1(grp):\n",
    "    grp = grp.sort_values('stop_id', ascending=False)\n",
    "    return(grp.iloc[0])\n",
    "\n"
   ]
  },
  {
   "cell_type": "code",
   "execution_count": 8,
   "metadata": {},
   "outputs": [],
   "source": [
    "trip_per_shape = trip_stop_len[['gtfs_shape_id', 'gtfs_trip_id', 'transit_date', 'stop_id']].groupby('gtfs_shape_id').apply(func1).reset_index(drop=True)\n",
    "\n",
    "#check if gtfs stops are matching with apc stops\n",
    "gtfs_trip_stop_count = stop_times.groupby('trip_id').count().reset_index()[['trip_id', 'stop_id']]\n",
    "\n",
    "merged_apc_gtfs = trip_per_shape.merge(gtfs_trip_stop_count, left_on='gtfs_trip_id', right_on='trip_id', how='left')\n",
    "merged_apc_gtfs['diff'] = merged_apc_gtfs['stop_id_x'] - merged_apc_gtfs['stop_id_y']\n",
    "\n",
    "#find differences in gtfs and apc stops\n",
    "diff = merged_apc_gtfs[merged_apc_gtfs['diff']!=0].rename({'stop_id_y': 'gtfs_stops', 'stop_id_x': 'apc_stops'}, axis=1)"
   ]
  },
  {
   "cell_type": "code",
   "execution_count": 9,
   "metadata": {},
   "outputs": [
    {
     "data": {
      "text/html": [
       "<div>\n",
       "<style scoped>\n",
       "    .dataframe tbody tr th:only-of-type {\n",
       "        vertical-align: middle;\n",
       "    }\n",
       "\n",
       "    .dataframe tbody tr th {\n",
       "        vertical-align: top;\n",
       "    }\n",
       "\n",
       "    .dataframe thead th {\n",
       "        text-align: right;\n",
       "    }\n",
       "</style>\n",
       "<table border=\"1\" class=\"dataframe\">\n",
       "  <thead>\n",
       "    <tr style=\"text-align: right;\">\n",
       "      <th></th>\n",
       "      <th>gtfs_shape_id</th>\n",
       "      <th>gtfs_trip_id</th>\n",
       "      <th>transit_date</th>\n",
       "      <th>apc_stops</th>\n",
       "      <th>trip_id</th>\n",
       "      <th>gtfs_stops</th>\n",
       "      <th>diff</th>\n",
       "    </tr>\n",
       "  </thead>\n",
       "  <tbody>\n",
       "  </tbody>\n",
       "</table>\n",
       "</div>"
      ],
      "text/plain": [
       "Empty DataFrame\n",
       "Columns: [gtfs_shape_id, gtfs_trip_id, transit_date, apc_stops, trip_id, gtfs_stops, diff]\n",
       "Index: []"
      ]
     },
     "execution_count": 9,
     "metadata": {},
     "output_type": "execute_result"
    }
   ],
   "source": [
    "diff"
   ]
  },
  {
   "cell_type": "code",
   "execution_count": 10,
   "metadata": {},
   "outputs": [],
   "source": [
    "import pandas as pd\n",
    "import geopandas as gpd\n",
    "import gtfs_functions as gtfs\n",
    "import pandas as pd,dateparser\n",
    "import glob,dateparser\n",
    "from plotly.subplots import make_subplots\n",
    "import plotly.graph_objects as go\n",
    "import gtfs_kit as gk\n",
    "import os,sys\n",
    "import requests,json\n",
    "import plotly.express as px\n",
    "import numpy as np\n",
    "from shapely.geometry import Point,LineString,MultiLineString\n",
    "pd.set_option('display.max_columns', None)"
   ]
  },
  {
   "cell_type": "code",
   "execution_count": 11,
   "metadata": {},
   "outputs": [],
   "source": [
    "def request_path(geom):\n",
    "    initial='http://127.0.0.1:5000/match/v1/driving/'\n",
    "    end='?overview=full&annotations=true&geometries=geojson'\n",
    "    requests=[]\n",
    "    l=[list(geom.coords)]\n",
    "    allcoords=[item for sublist in l for item in sublist]\n",
    "    maxelements=9999 #max coordinates\n",
    "    overlap=2 #overlap        \n",
    "    x = [allcoords[i:i+maxelements] for i in range(0, len(allcoords), maxelements-overlap)] #all requests\n",
    "    for line in x:\n",
    "        y=[str(item).strip('()').replace(\" \", \"\") for item in line]\n",
    "        sep=';'\n",
    "        querypart=sep.join(y)\n",
    "        radius=\"&radiuses=\"\n",
    "        for entry in y:\n",
    "            radius=radius+'25;'\n",
    "        radius=radius.strip(';')\n",
    "#             approaches=\"&approaches=\"\n",
    "#             for entry in y:\n",
    "#                 approaches=approaches+'curb;'\n",
    "        #approaches=approaches.strip(';')\n",
    "        requests.append(initial+querypart+end+radius)\n",
    "        print(requests)\n",
    "    return requests     "
   ]
  },
  {
   "cell_type": "code",
   "execution_count": 12,
   "metadata": {},
   "outputs": [],
   "source": [
    "def return_new_line(reqs):\n",
    "    url=reqs[0]\n",
    "    r=requests.get(url)\n",
    "    data=r.json()\n",
    "    l=LineString(data['matchings'][0]['geometry']['coordinates'])\n",
    "    return l"
   ]
  },
  {
   "cell_type": "markdown",
   "id": "1d5fe6a1",
   "metadata": {},
   "source": [
    "### map matching for stops (nearby streets)"
   ]
  },
  {
   "cell_type": "code",
   "execution_count": 14,
   "id": "0423c994",
   "metadata": {},
   "outputs": [],
   "source": [
    "def get_stop_url(geom):\n",
    "    # print(df)\n",
    "    # geom = df.geometry\n",
    "    initial='http://127.0.0.1:5000/nearest/v1/driving/'\n",
    "    end='?number=1'\n",
    "    point = str(geom.x)+\",\"+str(geom.y)\n",
    "    requests2 = []\n",
    "    requests2.append(initial+point+end)\n",
    "    return requests2\n",
    "    "
   ]
  },
  {
   "cell_type": "code",
   "execution_count": 15,
   "id": "2d78c6b3",
   "metadata": {},
   "outputs": [],
   "source": [
    "def nearby_points(reqs):\n",
    "    url=reqs[0]\n",
    "    r=requests.get(url)\n",
    "    data=r.json()\n",
    "    l=Point(data['waypoints'][0]['location'])\n",
    "    return l"
   ]
  },
  {
   "cell_type": "code",
   "execution_count": 16,
   "id": "8dfc09b4",
   "metadata": {},
   "outputs": [],
   "source": [
    "stop_times = gpd.GeoDataFrame(stop_times)\n",
    "stop_times['url'] = stop_times.geometry.apply(get_stop_url)"
   ]
  },
  {
   "cell_type": "code",
   "execution_count": 17,
   "id": "d3875742",
   "metadata": {},
   "outputs": [
    {
     "data": {
      "text/html": [
       "<div>\n",
       "<style scoped>\n",
       "    .dataframe tbody tr th:only-of-type {\n",
       "        vertical-align: middle;\n",
       "    }\n",
       "\n",
       "    .dataframe tbody tr th {\n",
       "        vertical-align: top;\n",
       "    }\n",
       "\n",
       "    .dataframe thead th {\n",
       "        text-align: right;\n",
       "    }\n",
       "</style>\n",
       "<table border=\"1\" class=\"dataframe\">\n",
       "  <thead>\n",
       "    <tr style=\"text-align: right;\">\n",
       "      <th></th>\n",
       "      <th>trip_id</th>\n",
       "      <th>arrival_time</th>\n",
       "      <th>departure_time</th>\n",
       "      <th>stop_id</th>\n",
       "      <th>stop_sequence</th>\n",
       "      <th>stop_headsign</th>\n",
       "      <th>pickup_type</th>\n",
       "      <th>drop_off_type</th>\n",
       "      <th>shape_dist_traveled</th>\n",
       "      <th>timepoint</th>\n",
       "      <th>route_id</th>\n",
       "      <th>service_id</th>\n",
       "      <th>direction_id</th>\n",
       "      <th>shape_id</th>\n",
       "      <th>stop_code</th>\n",
       "      <th>stop_name</th>\n",
       "      <th>stop_desc</th>\n",
       "      <th>zone_id</th>\n",
       "      <th>stop_url</th>\n",
       "      <th>location_type</th>\n",
       "      <th>parent_station</th>\n",
       "      <th>stop_timezone</th>\n",
       "      <th>wheelchair_boarding</th>\n",
       "      <th>geometry</th>\n",
       "      <th>url</th>\n",
       "    </tr>\n",
       "  </thead>\n",
       "  <tbody>\n",
       "    <tr>\n",
       "      <th>0</th>\n",
       "      <td>204888020</td>\n",
       "      <td>32663.0</td>\n",
       "      <td>32663.0</td>\n",
       "      <td>18</td>\n",
       "      <td>18</td>\n",
       "      <td>NaN</td>\n",
       "      <td>0</td>\n",
       "      <td>0</td>\n",
       "      <td>5585.64</td>\n",
       "      <td>0</td>\n",
       "      <td>1</td>\n",
       "      <td>1</td>\n",
       "      <td>0</td>\n",
       "      <td>shp-1-04</td>\n",
       "      <td>3074</td>\n",
       "      <td>MARKET + 12TH</td>\n",
       "      <td>NaN</td>\n",
       "      <td>NaN</td>\n",
       "      <td>NaN</td>\n",
       "      <td>NaN</td>\n",
       "      <td>NaN</td>\n",
       "      <td>NaN</td>\n",
       "      <td>2</td>\n",
       "      <td>POINT (-85.30907 35.04235)</td>\n",
       "      <td>[http://127.0.0.1:5000/nearest/v1/driving/-85....</td>\n",
       "    </tr>\n",
       "  </tbody>\n",
       "</table>\n",
       "</div>"
      ],
      "text/plain": [
       "     trip_id  arrival_time  departure_time stop_id  stop_sequence  \\\n",
       "0  204888020       32663.0         32663.0      18             18   \n",
       "\n",
       "  stop_headsign  pickup_type drop_off_type  shape_dist_traveled  timepoint  \\\n",
       "0           NaN            0             0              5585.64          0   \n",
       "\n",
       "  route_id service_id  direction_id  shape_id stop_code      stop_name  \\\n",
       "0        1          1             0  shp-1-04      3074  MARKET + 12TH   \n",
       "\n",
       "  stop_desc zone_id stop_url  location_type parent_station stop_timezone  \\\n",
       "0       NaN     NaN      NaN            NaN            NaN           NaN   \n",
       "\n",
       "   wheelchair_boarding                    geometry  \\\n",
       "0                    2  POINT (-85.30907 35.04235)   \n",
       "\n",
       "                                                 url  \n",
       "0  [http://127.0.0.1:5000/nearest/v1/driving/-85....  "
      ]
     },
     "execution_count": 17,
     "metadata": {},
     "output_type": "execute_result"
    }
   ],
   "source": [
    "stop_times.head(1)"
   ]
  },
  {
   "cell_type": "code",
   "execution_count": 20,
   "id": "5f3013d7",
   "metadata": {},
   "outputs": [],
   "source": [
    "stops = gpd.GeoDataFrame(stops)\n",
    "stops['url'] = stops.geometry.apply(get_stop_url)\n",
    "stops['new_geom']=stops.url.apply(nearby_points)"
   ]
  },
  {
   "cell_type": "code",
   "execution_count": 21,
   "id": "b36484a9",
   "metadata": {},
   "outputs": [
    {
     "data": {
      "text/html": [
       "<div>\n",
       "<style scoped>\n",
       "    .dataframe tbody tr th:only-of-type {\n",
       "        vertical-align: middle;\n",
       "    }\n",
       "\n",
       "    .dataframe tbody tr th {\n",
       "        vertical-align: top;\n",
       "    }\n",
       "\n",
       "    .dataframe thead th {\n",
       "        text-align: right;\n",
       "    }\n",
       "</style>\n",
       "<table border=\"1\" class=\"dataframe\">\n",
       "  <thead>\n",
       "    <tr style=\"text-align: right;\">\n",
       "      <th></th>\n",
       "      <th>stop_id</th>\n",
       "      <th>stop_code</th>\n",
       "      <th>stop_name</th>\n",
       "      <th>stop_desc</th>\n",
       "      <th>zone_id</th>\n",
       "      <th>stop_url</th>\n",
       "      <th>location_type</th>\n",
       "      <th>parent_station</th>\n",
       "      <th>stop_timezone</th>\n",
       "      <th>wheelchair_boarding</th>\n",
       "      <th>geometry</th>\n",
       "      <th>url</th>\n",
       "      <th>new_geom</th>\n",
       "    </tr>\n",
       "  </thead>\n",
       "  <tbody>\n",
       "    <tr>\n",
       "      <th>0</th>\n",
       "      <td>12</td>\n",
       "      <td>2201</td>\n",
       "      <td>MARKET + FAMILY DOLLAR</td>\n",
       "      <td>NaN</td>\n",
       "      <td>NaN</td>\n",
       "      <td>NaN</td>\n",
       "      <td>NaN</td>\n",
       "      <td>NaN</td>\n",
       "      <td>NaN</td>\n",
       "      <td>2</td>\n",
       "      <td>POINT (-85.30953 35.05070)</td>\n",
       "      <td>[http://127.0.0.1:5000/nearest/v1/driving/-85....</td>\n",
       "      <td>POINT (-85.309564 35.050702)</td>\n",
       "    </tr>\n",
       "  </tbody>\n",
       "</table>\n",
       "</div>"
      ],
      "text/plain": [
       "  stop_id stop_code               stop_name stop_desc zone_id stop_url  \\\n",
       "0      12      2201  MARKET + FAMILY DOLLAR       NaN     NaN      NaN   \n",
       "\n",
       "   location_type parent_station stop_timezone  wheelchair_boarding  \\\n",
       "0            NaN            NaN           NaN                    2   \n",
       "\n",
       "                     geometry  \\\n",
       "0  POINT (-85.30953 35.05070)   \n",
       "\n",
       "                                                 url  \\\n",
       "0  [http://127.0.0.1:5000/nearest/v1/driving/-85....   \n",
       "\n",
       "                       new_geom  \n",
       "0  POINT (-85.309564 35.050702)  "
      ]
     },
     "execution_count": 21,
     "metadata": {},
     "output_type": "execute_result"
    }
   ],
   "source": [
    "stops.head(1)"
   ]
  },
  {
   "cell_type": "code",
   "execution_count": 22,
   "id": "ccd76953",
   "metadata": {},
   "outputs": [],
   "source": [
    "stops = stops.drop(['geometry', 'url'], axis=1)\n",
    "stops.rename(columns ={'new_geom':'geometry'}, inplace=True)"
   ]
  },
  {
   "cell_type": "code",
   "execution_count": 24,
   "id": "fad41506",
   "metadata": {},
   "outputs": [],
   "source": [
    "# stop_times_upd = pd.merge(stop_times, stops[['stop_id', 'new_geom']], on=['stop_id'], how='left')\n",
    "# stop_times_upd = stop_times_upd.drop(['geometry', 'url'], axis=1)\n",
    "# stop_times_upd.rename(columns ={'new_geom':'geometry'}, inplace=True)"
   ]
  },
  {
   "cell_type": "code",
   "execution_count": 25,
   "id": "66c7b68f",
   "metadata": {},
   "outputs": [],
   "source": [
    "stops['stop_lat'] = ''\n",
    "stops['stop_lon'] = ''\n",
    "\n",
    "for i, stop in stops.iterrows():\n",
    "    stops.loc[i, 'stop_lat'] = stop.geometry.y\n",
    "    stops.loc[i, 'stop_lon'] = stop.geometry.x"
   ]
  },
  {
   "cell_type": "code",
   "execution_count": 26,
   "id": "3bbadaa5",
   "metadata": {},
   "outputs": [],
   "source": [
    "#saving matched stops\n",
    "stops.drop(['geometry'], axis=1).to_csv(r'stops_matched.txt', header=True, index=None, sep=',', mode='a')"
   ]
  },
  {
   "cell_type": "markdown",
   "id": "ac65b93c",
   "metadata": {},
   "source": [
    "# map matching for paths/shapes"
   ]
  },
  {
   "cell_type": "code",
   "execution_count": 27,
   "id": "a5b90b7f-7cf7-4950-839f-849231e6a043",
   "metadata": {},
   "outputs": [],
   "source": [
    "shapes['url']=shapes.geometry.apply(request_path)\n",
    "shapes['urllength']=shapes['url'].apply(len)\n",
    "shapes['n_geom']=shapes.url.apply(return_new_line)"
   ]
  },
  {
   "cell_type": "code",
   "execution_count": null,
   "id": "48b75da3-7458-4324-aebe-66b691ab0686",
   "metadata": {},
   "outputs": [],
   "source": [
    "shapes2=shapes.merge(trips, on='shape_id',how='left').drop(['url','urllength','trip_id','geometry','n_geom'],axis=1).drop_duplicates().reset_index().drop(['index'],axis=1)\n",
    "shapes2=shapes2.merge(shapes,on='shape_id',how='inner')"
   ]
  },
  {
   "cell_type": "code",
   "execution_count": null,
   "id": "217fbb39",
   "metadata": {},
   "outputs": [],
   "source": [
    "shapes_actual = pd.read_csv('./gtfs_data/2022-06-10/shapes.txt', sep=',').astype(str)"
   ]
  },
  {
   "cell_type": "code",
   "execution_count": null,
   "id": "70096669-ec6f-4801-827d-f20c1d27338d",
   "metadata": {},
   "outputs": [
    {
     "data": {
      "text/html": [
       "<div>\n",
       "<style scoped>\n",
       "    .dataframe tbody tr th:only-of-type {\n",
       "        vertical-align: middle;\n",
       "    }\n",
       "\n",
       "    .dataframe tbody tr th {\n",
       "        vertical-align: top;\n",
       "    }\n",
       "\n",
       "    .dataframe thead th {\n",
       "        text-align: right;\n",
       "    }\n",
       "</style>\n",
       "<table border=\"1\" class=\"dataframe\">\n",
       "  <thead>\n",
       "    <tr style=\"text-align: right;\">\n",
       "      <th></th>\n",
       "      <th>shape_id</th>\n",
       "      <th>shape_pt_lat</th>\n",
       "      <th>shape_pt_lon</th>\n",
       "      <th>shape_pt_sequence</th>\n",
       "    </tr>\n",
       "  </thead>\n",
       "  <tbody>\n",
       "    <tr>\n",
       "      <th>0</th>\n",
       "      <td>1131953847</td>\n",
       "      <td>35.10479</td>\n",
       "      <td>-85.1601</td>\n",
       "      <td>1</td>\n",
       "    </tr>\n",
       "  </tbody>\n",
       "</table>\n",
       "</div>"
      ],
      "text/plain": [
       "     shape_id  shape_pt_lat  shape_pt_lon  shape_pt_sequence\n",
       "0  1131953847      35.10479      -85.1601                  1"
      ]
     },
     "metadata": {},
     "output_type": "display_data"
    }
   ],
   "source": [
    "shapes_actual.head(1)"
   ]
  },
  {
   "cell_type": "code",
   "execution_count": null,
   "metadata": {},
   "outputs": [],
   "source": [
    "# shapes3 = shapes2[:2]\n",
    "# import shapely.wkt as wkt\n",
    "# list(shapes3.iloc[0].n_geom.coords)[0][0]\n",
    "shapes3 = shapes2\n",
    "temp_df = pd.DataFrame(columns = ['shape_id', 'shape_pt_lat', 'shape_pt_lon'])\n",
    "# temp_df2 = pd.DataFrame(columns = ['shape_id', 'shape_pt_lat', 'shape_pt_lon'])\n",
    "count=0\n",
    "for idx, row in shapes3.iterrows():\n",
    "    l1 = list(shapes3.iloc[idx].geometry.coords)\n",
    "    l2 = list(shapes3.iloc[idx].n_geom.coords)\n",
    "    for pt in range(len(l1)):\n",
    "        # print(pt[1], pt[0])\n",
    "        temp_df.loc[count, 'shape_id'] = shapes3.iloc[idx].shape_id\n",
    "        temp_df.loc[count, 'shape_pt_lat'] = l1[pt][1]\n",
    "        temp_df.loc[count, 'shape_pt_lon'] = l1[pt][0]\n",
    "        temp_df.loc[count, 'shape_pt_lat_new'] = l2[pt][1]\n",
    "        temp_df.loc[count, 'shape_pt_lon_new'] = l2[pt][0]\n",
    "\n",
    "        count+=1\n"
   ]
  },
  {
   "cell_type": "code",
   "execution_count": null,
   "id": "962f89f7",
   "metadata": {},
   "outputs": [],
   "source": [
    "def linestring_to_points(line):\n",
    "    return [line.coords]\n",
    "\n",
    "shapes3['points'] = shapes3.apply(lambda l: linestring_to_points(l['geometry']),axis=1)"
   ]
  },
  {
   "cell_type": "code",
   "execution_count": null,
   "id": "b2e34337",
   "metadata": {},
   "outputs": [
    {
     "data": {
      "text/html": [
       "<div>\n",
       "<style scoped>\n",
       "    .dataframe tbody tr th:only-of-type {\n",
       "        vertical-align: middle;\n",
       "    }\n",
       "\n",
       "    .dataframe tbody tr th {\n",
       "        vertical-align: top;\n",
       "    }\n",
       "\n",
       "    .dataframe thead th {\n",
       "        text-align: right;\n",
       "    }\n",
       "</style>\n",
       "<table border=\"1\" class=\"dataframe\">\n",
       "  <thead>\n",
       "    <tr style=\"text-align: right;\">\n",
       "      <th></th>\n",
       "      <th>shape_id</th>\n",
       "      <th>shape_pt_lat</th>\n",
       "      <th>shape_pt_lon</th>\n",
       "      <th>shape_pt_lat_new</th>\n",
       "      <th>shape_pt_lon_new</th>\n",
       "    </tr>\n",
       "  </thead>\n",
       "  <tbody>\n",
       "    <tr>\n",
       "      <th>0</th>\n",
       "      <td>1131953806</td>\n",
       "      <td>35.048828</td>\n",
       "      <td>-85.309547</td>\n",
       "      <td>35.048829</td>\n",
       "      <td>-85.309511</td>\n",
       "    </tr>\n",
       "    <tr>\n",
       "      <th>1</th>\n",
       "      <td>1131953806</td>\n",
       "      <td>35.048828</td>\n",
       "      <td>-85.309547</td>\n",
       "      <td>35.048829</td>\n",
       "      <td>-85.309511</td>\n",
       "    </tr>\n",
       "    <tr>\n",
       "      <th>2</th>\n",
       "      <td>1131953806</td>\n",
       "      <td>35.048828</td>\n",
       "      <td>-85.309547</td>\n",
       "      <td>35.048829</td>\n",
       "      <td>-85.309511</td>\n",
       "    </tr>\n",
       "    <tr>\n",
       "      <th>3</th>\n",
       "      <td>1131953806</td>\n",
       "      <td>35.048693</td>\n",
       "      <td>-85.309563</td>\n",
       "      <td>35.048695</td>\n",
       "      <td>-85.309504</td>\n",
       "    </tr>\n",
       "    <tr>\n",
       "      <th>4</th>\n",
       "      <td>1131953806</td>\n",
       "      <td>35.048527</td>\n",
       "      <td>-85.309547</td>\n",
       "      <td>35.048529</td>\n",
       "      <td>-85.309495</td>\n",
       "    </tr>\n",
       "  </tbody>\n",
       "</table>\n",
       "</div>"
      ],
      "text/plain": [
       "     shape_id shape_pt_lat shape_pt_lon  shape_pt_lat_new  shape_pt_lon_new\n",
       "0  1131953806    35.048828   -85.309547         35.048829        -85.309511\n",
       "1  1131953806    35.048828   -85.309547         35.048829        -85.309511\n",
       "2  1131953806    35.048828   -85.309547         35.048829        -85.309511\n",
       "3  1131953806    35.048693   -85.309563         35.048695        -85.309504\n",
       "4  1131953806    35.048527   -85.309547         35.048529        -85.309495"
      ]
     },
     "metadata": {},
     "output_type": "display_data"
    }
   ],
   "source": [
    "temp_df.head()"
   ]
  },
  {
   "cell_type": "code",
   "execution_count": null,
   "id": "44e45c9a",
   "metadata": {},
   "outputs": [],
   "source": [
    "temp_df = temp_df.astype(str)\n",
    "shapes_mod = temp_df.merge(shapes_actual, on=['shape_id', 'shape_pt_lat', 'shape_pt_lon']).drop(['shape_pt_lat', 'shape_pt_lon'], axis=1).rename(columns={'shape_pt_lat_new': 'shape_pt_lat', 'shape_pt_lon_new': 'shape_pt_lon' })"
   ]
  },
  {
   "cell_type": "code",
   "execution_count": null,
   "id": "0036c93c",
   "metadata": {},
   "outputs": [
    {
     "data": {
      "text/html": [
       "<div>\n",
       "<style scoped>\n",
       "    .dataframe tbody tr th:only-of-type {\n",
       "        vertical-align: middle;\n",
       "    }\n",
       "\n",
       "    .dataframe tbody tr th {\n",
       "        vertical-align: top;\n",
       "    }\n",
       "\n",
       "    .dataframe thead th {\n",
       "        text-align: right;\n",
       "    }\n",
       "</style>\n",
       "<table border=\"1\" class=\"dataframe\">\n",
       "  <thead>\n",
       "    <tr style=\"text-align: right;\">\n",
       "      <th></th>\n",
       "      <th>shape_id</th>\n",
       "      <th>shape_pt_lat</th>\n",
       "      <th>shape_pt_lon</th>\n",
       "      <th>shape_pt_sequence</th>\n",
       "    </tr>\n",
       "  </thead>\n",
       "  <tbody>\n",
       "    <tr>\n",
       "      <th>0</th>\n",
       "      <td>1131953806</td>\n",
       "      <td>35.048829</td>\n",
       "      <td>-85.309511</td>\n",
       "      <td>1</td>\n",
       "    </tr>\n",
       "    <tr>\n",
       "      <th>1</th>\n",
       "      <td>1131953806</td>\n",
       "      <td>35.048829</td>\n",
       "      <td>-85.309511</td>\n",
       "      <td>2</td>\n",
       "    </tr>\n",
       "    <tr>\n",
       "      <th>2</th>\n",
       "      <td>1131953806</td>\n",
       "      <td>35.048829</td>\n",
       "      <td>-85.309511</td>\n",
       "      <td>3</td>\n",
       "    </tr>\n",
       "    <tr>\n",
       "      <th>3</th>\n",
       "      <td>1131953806</td>\n",
       "      <td>35.048829</td>\n",
       "      <td>-85.309511</td>\n",
       "      <td>1</td>\n",
       "    </tr>\n",
       "    <tr>\n",
       "      <th>4</th>\n",
       "      <td>1131953806</td>\n",
       "      <td>35.048829</td>\n",
       "      <td>-85.309511</td>\n",
       "      <td>2</td>\n",
       "    </tr>\n",
       "    <tr>\n",
       "      <th>...</th>\n",
       "      <td>...</td>\n",
       "      <td>...</td>\n",
       "      <td>...</td>\n",
       "      <td>...</td>\n",
       "    </tr>\n",
       "    <tr>\n",
       "      <th>16741</th>\n",
       "      <td>1131953873</td>\n",
       "      <td>35.099139</td>\n",
       "      <td>-85.280246</td>\n",
       "      <td>521</td>\n",
       "    </tr>\n",
       "    <tr>\n",
       "      <th>16742</th>\n",
       "      <td>1131953873</td>\n",
       "      <td>35.099139</td>\n",
       "      <td>-85.280246</td>\n",
       "      <td>522</td>\n",
       "    </tr>\n",
       "    <tr>\n",
       "      <th>16743</th>\n",
       "      <td>1131953873</td>\n",
       "      <td>35.099061</td>\n",
       "      <td>-85.280328</td>\n",
       "      <td>523</td>\n",
       "    </tr>\n",
       "    <tr>\n",
       "      <th>16744</th>\n",
       "      <td>1131953873</td>\n",
       "      <td>35.098958</td>\n",
       "      <td>-85.280403</td>\n",
       "      <td>524</td>\n",
       "    </tr>\n",
       "    <tr>\n",
       "      <th>16745</th>\n",
       "      <td>1131953873</td>\n",
       "      <td>35.098949</td>\n",
       "      <td>-85.280409</td>\n",
       "      <td>525</td>\n",
       "    </tr>\n",
       "  </tbody>\n",
       "</table>\n",
       "<p>16746 rows × 4 columns</p>\n",
       "</div>"
      ],
      "text/plain": [
       "         shape_id shape_pt_lat shape_pt_lon shape_pt_sequence\n",
       "0      1131953806    35.048829   -85.309511                 1\n",
       "1      1131953806    35.048829   -85.309511                 2\n",
       "2      1131953806    35.048829   -85.309511                 3\n",
       "3      1131953806    35.048829   -85.309511                 1\n",
       "4      1131953806    35.048829   -85.309511                 2\n",
       "...           ...          ...          ...               ...\n",
       "16741  1131953873    35.099139   -85.280246               521\n",
       "16742  1131953873    35.099139   -85.280246               522\n",
       "16743  1131953873    35.099061   -85.280328               523\n",
       "16744  1131953873    35.098958   -85.280403               524\n",
       "16745  1131953873    35.098949   -85.280409               525\n",
       "\n",
       "[16746 rows x 4 columns]"
      ]
     },
     "metadata": {},
     "output_type": "display_data"
    }
   ],
   "source": [
    "shapes_mod"
   ]
  },
  {
   "cell_type": "code",
   "execution_count": null,
   "id": "2fda3b72",
   "metadata": {},
   "outputs": [],
   "source": [
    "shapes_mod.to_csv(r'shapes_matched.txt', header=True, index=None, sep=',', mode='a')"
   ]
  }
 ],
 "metadata": {
  "kernelspec": {
   "display_name": "Python 3.7.9 64-bit",
   "language": "python",
   "name": "python3"
  },
  "language_info": {
   "codemirror_mode": {
    "name": "ipython",
    "version": 3
   },
   "file_extension": ".py",
   "mimetype": "text/x-python",
   "name": "python",
   "nbconvert_exporter": "python",
   "pygments_lexer": "ipython3",
   "version": "3.7.9"
  },
  "orig_nbformat": 4,
  "vscode": {
   "interpreter": {
    "hash": "c4d0005f5e14f7c00ac58c488a6489dbdddabe86817daaefe3a462e64eae13df"
   }
  }
 },
 "nbformat": 4,
 "nbformat_minor": 2
}
